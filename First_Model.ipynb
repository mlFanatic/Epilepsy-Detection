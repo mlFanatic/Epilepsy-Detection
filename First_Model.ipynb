{
  "nbformat": 4,
  "nbformat_minor": 0,
  "metadata": {
    "colab": {
      "name": "Untitled3.ipynb",
      "provenance": [],
      "collapsed_sections": [],
      "authorship_tag": "ABX9TyOVR9jLa3DE6tZ7VvHlooZt",
      "include_colab_link": true
    },
    "kernelspec": {
      "name": "python3",
      "display_name": "Python 3"
    }
  },
  "cells": [
    {
      "cell_type": "markdown",
      "metadata": {
        "id": "view-in-github",
        "colab_type": "text"
      },
      "source": [
        "<a href=\"https://colab.research.google.com/github/mlFanatic/Epilepsy-Detection/blob/master/First_Model.ipynb\" target=\"_parent\"><img src=\"https://colab.research.google.com/assets/colab-badge.svg\" alt=\"Open In Colab\"/></a>"
      ]
    },
    {
      "cell_type": "code",
      "metadata": {
        "id": "V3Py9P8dvQZm",
        "colab_type": "code",
        "outputId": "e8b4e99e-7610-49c0-efc1-b46929ae9ce2",
        "colab": {
          "base_uri": "https://localhost:8080/",
          "height": 34
        }
      },
      "source": [
        "!git clone https://github.com/mlFanatic/Epilepsy-Detection.git"
      ],
      "execution_count": 221,
      "outputs": [
        {
          "output_type": "stream",
          "text": [
            "fatal: destination path 'Epilepsy-Detection' already exists and is not an empty directory.\n"
          ],
          "name": "stdout"
        }
      ]
    },
    {
      "cell_type": "code",
      "metadata": {
        "id": "KqZFg2T1xCqb",
        "colab_type": "code",
        "outputId": "48754a18-1d44-491a-c1e9-e819740be40b",
        "colab": {
          "base_uri": "https://localhost:8080/",
          "height": 50
        }
      },
      "source": [
        "!pip install pyedflib"
      ],
      "execution_count": 149,
      "outputs": [
        {
          "output_type": "stream",
          "text": [
            "Requirement already satisfied: pyedflib in /usr/local/lib/python3.6/dist-packages (0.1.17)\n",
            "Requirement already satisfied: numpy>=1.9.1 in /usr/local/lib/python3.6/dist-packages (from pyedflib) (1.18.2)\n"
          ],
          "name": "stdout"
        }
      ]
    },
    {
      "cell_type": "code",
      "metadata": {
        "id": "msUX2MVQxOXD",
        "colab_type": "code",
        "outputId": "6e2beaf3-9353-4ed8-a93f-d04e02d6f519",
        "colab": {
          "base_uri": "https://localhost:8080/",
          "height": 353
        }
      },
      "source": [
        "!pip install wfdb"
      ],
      "execution_count": 150,
      "outputs": [
        {
          "output_type": "stream",
          "text": [
            "Requirement already satisfied: wfdb in /usr/local/lib/python3.6/dist-packages (2.2.1)\n",
            "Requirement already satisfied: nose>=1.3.7 in /usr/local/lib/python3.6/dist-packages (from wfdb) (1.3.7)\n",
            "Requirement already satisfied: requests>=2.10.0 in /usr/local/lib/python3.6/dist-packages (from wfdb) (2.21.0)\n",
            "Requirement already satisfied: matplotlib>=1.5.1 in /usr/local/lib/python3.6/dist-packages (from wfdb) (3.2.1)\n",
            "Requirement already satisfied: scipy>=0.19.0 in /usr/local/lib/python3.6/dist-packages (from wfdb) (1.4.1)\n",
            "Requirement already satisfied: numpy>=1.11.0 in /usr/local/lib/python3.6/dist-packages (from wfdb) (1.18.2)\n",
            "Requirement already satisfied: sklearn>=0.0 in /usr/local/lib/python3.6/dist-packages (from wfdb) (0.0)\n",
            "Requirement already satisfied: pandas>=0.19.1 in /usr/local/lib/python3.6/dist-packages (from wfdb) (1.0.3)\n",
            "Requirement already satisfied: chardet<3.1.0,>=3.0.2 in /usr/local/lib/python3.6/dist-packages (from requests>=2.10.0->wfdb) (3.0.4)\n",
            "Requirement already satisfied: certifi>=2017.4.17 in /usr/local/lib/python3.6/dist-packages (from requests>=2.10.0->wfdb) (2020.4.5.1)\n",
            "Requirement already satisfied: urllib3<1.25,>=1.21.1 in /usr/local/lib/python3.6/dist-packages (from requests>=2.10.0->wfdb) (1.24.3)\n",
            "Requirement already satisfied: idna<2.9,>=2.5 in /usr/local/lib/python3.6/dist-packages (from requests>=2.10.0->wfdb) (2.8)\n",
            "Requirement already satisfied: kiwisolver>=1.0.1 in /usr/local/lib/python3.6/dist-packages (from matplotlib>=1.5.1->wfdb) (1.2.0)\n",
            "Requirement already satisfied: cycler>=0.10 in /usr/local/lib/python3.6/dist-packages (from matplotlib>=1.5.1->wfdb) (0.10.0)\n",
            "Requirement already satisfied: pyparsing!=2.0.4,!=2.1.2,!=2.1.6,>=2.0.1 in /usr/local/lib/python3.6/dist-packages (from matplotlib>=1.5.1->wfdb) (2.4.7)\n",
            "Requirement already satisfied: python-dateutil>=2.1 in /usr/local/lib/python3.6/dist-packages (from matplotlib>=1.5.1->wfdb) (2.8.1)\n",
            "Requirement already satisfied: scikit-learn in /usr/local/lib/python3.6/dist-packages (from sklearn>=0.0->wfdb) (0.22.2.post1)\n",
            "Requirement already satisfied: pytz>=2017.2 in /usr/local/lib/python3.6/dist-packages (from pandas>=0.19.1->wfdb) (2018.9)\n",
            "Requirement already satisfied: six in /usr/local/lib/python3.6/dist-packages (from cycler>=0.10->matplotlib>=1.5.1->wfdb) (1.12.0)\n",
            "Requirement already satisfied: joblib>=0.11 in /usr/local/lib/python3.6/dist-packages (from scikit-learn->sklearn>=0.0->wfdb) (0.14.1)\n"
          ],
          "name": "stdout"
        }
      ]
    },
    {
      "cell_type": "code",
      "metadata": {
        "id": "fKZXHiG4vzWn",
        "colab_type": "code",
        "colab": {}
      },
      "source": [
        "from pyedflib import highlevel\n",
        "import numpy as np\n",
        "import matplotlib.pyplot as plt\n",
        "import wfdb\n",
        "import pandas as pd\n",
        "from pathlib import Path\n",
        "import os\n",
        "import torch\n",
        "import torchvision\n",
        "from torchvision import transforms, datasets\n",
        "from torch.utils.data import Dataset, DataLoader\n",
        "import torch.nn as nn\n",
        "import torch.optim as optim\n",
        "import torch.nn.functional as F\n",
        "from sklearn.model_selection import train_test_split"
      ],
      "execution_count": 0,
      "outputs": []
    },
    {
      "cell_type": "code",
      "metadata": {
        "id": "4kHSSTDOw_is",
        "colab_type": "code",
        "outputId": "a599d604-77ee-4099-cd51-dadc2a837939",
        "colab": {
          "base_uri": "https://localhost:8080/",
          "height": 34
        }
      },
      "source": [
        "pwd"
      ],
      "execution_count": 0,
      "outputs": [
        {
          "output_type": "execute_result",
          "data": {
            "text/plain": [
              "'/content'"
            ]
          },
          "metadata": {
            "tags": []
          },
          "execution_count": 6
        }
      ]
    },
    {
      "cell_type": "code",
      "metadata": {
        "id": "5aad5TanxWv1",
        "colab_type": "code",
        "outputId": "338c2f6e-5712-4ab9-e68e-99b32f8c3c7b",
        "colab": {
          "base_uri": "https://localhost:8080/",
          "height": 34
        }
      },
      "source": [
        "cd Epilepsy-Detection/"
      ],
      "execution_count": 0,
      "outputs": [
        {
          "output_type": "stream",
          "text": [
            "/content/Epilepsy-Detection\n"
          ],
          "name": "stdout"
        }
      ]
    },
    {
      "cell_type": "code",
      "metadata": {
        "id": "64-DJexzxZUn",
        "colab_type": "code",
        "colab": {}
      },
      "source": [
        "path = Path(\"/content/Epilepsy-Detection/Dataset/\")"
      ],
      "execution_count": 0,
      "outputs": []
    },
    {
      "cell_type": "code",
      "metadata": {
        "id": "yNpoih61xiJr",
        "colab_type": "code",
        "colab": {}
      },
      "source": [
        "seizures = list(path.rglob('*.edf'))\n",
        "anno = list(path.rglob('*.seizures'))"
      ],
      "execution_count": 0,
      "outputs": []
    },
    {
      "cell_type": "code",
      "metadata": {
        "id": "TVD-ms45yB5y",
        "colab_type": "code",
        "colab": {}
      },
      "source": [
        "assert seizures is not None\n",
        "assert anno is not None"
      ],
      "execution_count": 0,
      "outputs": []
    },
    {
      "cell_type": "code",
      "metadata": {
        "id": "rzBxCGHJyC4y",
        "colab_type": "code",
        "outputId": "54b7ab9b-a435-4d05-991a-8243abb90990",
        "colab": {
          "base_uri": "https://localhost:8080/",
          "height": 538
        }
      },
      "source": [
        "total_preictal = []\n",
        "total_seizures = []\n",
        "total_postictal = []\n",
        "for seizure, annot in zip(seizures, anno):\n",
        "    print(seizure,'\\t')\n",
        "    print(annot,'\\n')\n",
        "    signals, signal_headers, header = highlevel.read_edf(str(seizure))\n",
        "    ann = wfdb.rdann(str(seizure),\"seizures\")\n",
        "    pre_ictal = []\n",
        "    seizuress = []\n",
        "    post_ictal = []\n",
        "    for signal in signals:\n",
        "        pre_ictal.append(signal[1: ann.sample[0]])\n",
        "        seizuress.append(signal[ann.sample[0]: ann.sample[1]])\n",
        "        post_ictal.append(signal[ann.sample[1]: -1])\n",
        "    total_preictal.append(pre_ictal)\n",
        "    total_seizures.append(seizuress)\n",
        "    total_postictal.append(post_ictal)\n",
        "np.shape(total_seizures)"
      ],
      "execution_count": 155,
      "outputs": [
        {
          "output_type": "stream",
          "text": [
            "/content/Epilepsy-Detection/Dataset/chb01/chb01_18.edf \t\n",
            "/content/Epilepsy-Detection/Dataset/chb01/chb01_03.edf.seizures \n",
            "\n",
            "/content/Epilepsy-Detection/Dataset/chb01/chb01_26.edf \t\n",
            "/content/Epilepsy-Detection/Dataset/chb01/chb01_21.edf.seizures \n",
            "\n",
            "/content/Epilepsy-Detection/Dataset/chb01/chb01_16.edf \t\n",
            "/content/Epilepsy-Detection/Dataset/chb01/chb01_04.edf.seizures \n",
            "\n",
            "/content/Epilepsy-Detection/Dataset/chb01/chb01_03.edf \t\n",
            "/content/Epilepsy-Detection/Dataset/chb01/chb01_26.edf.seizures \n",
            "\n",
            "/content/Epilepsy-Detection/Dataset/chb01/chb01_04.edf \t\n",
            "/content/Epilepsy-Detection/Dataset/chb01/chb01_16.edf.seizures \n",
            "\n",
            "/content/Epilepsy-Detection/Dataset/chb01/chb01_15.edf \t\n",
            "/content/Epilepsy-Detection/Dataset/chb01/chb01_18.edf.seizures \n",
            "\n",
            "/content/Epilepsy-Detection/Dataset/chb01/chb01_21.edf \t\n",
            "/content/Epilepsy-Detection/Dataset/chb01/chb01_15.edf.seizures \n",
            "\n",
            "/content/Epilepsy-Detection/Dataset/chb02/chb02_16+.edf \t\n",
            "/content/Epilepsy-Detection/Dataset/chb02/chb02_16+.edf.seizures \n",
            "\n",
            "/content/Epilepsy-Detection/Dataset/chb02/chb02_16.edf \t\n",
            "/content/Epilepsy-Detection/Dataset/chb02/chb02_19.edf.seizures \n",
            "\n",
            "/content/Epilepsy-Detection/Dataset/chb02/chb02_19.edf \t\n",
            "/content/Epilepsy-Detection/Dataset/chb02/chb02_16.edf.seizures \n",
            "\n"
          ],
          "name": "stdout"
        },
        {
          "output_type": "execute_result",
          "data": {
            "text/plain": [
              "(10, 23)"
            ]
          },
          "metadata": {
            "tags": []
          },
          "execution_count": 155
        }
      ]
    },
    {
      "cell_type": "code",
      "metadata": {
        "id": "-mcjMDshz7Lv",
        "colab_type": "code",
        "outputId": "ee761fbb-2de1-4135-a4d0-7dd496c3020d",
        "colab": {
          "base_uri": "https://localhost:8080/",
          "height": 34
        }
      },
      "source": [
        "train = []\n",
        "labels = []\n",
        "for i in range(np.shape(total_preictal)[0]):\n",
        "    for j in range (int(np.shape(total_preictal[i])[1] / 100)):\n",
        "        temp = []\n",
        "        for k in range(np.shape(total_preictal)[1]):\n",
        "            temp.append(total_preictal[i][k][j:j+100])\n",
        "        train.append(temp)\n",
        "        labels.append(0)\n",
        "        temp.clear()\n",
        "        for k in range(np.shape(total_preictal)[1]):\n",
        "            temp.append(total_seizures[i][k][j:j+100])\n",
        "        train.append(temp)\n",
        "        labels.append(1)\n",
        "        temp.clear()\n",
        "        for k in range(np.shape(total_preictal)[1]):\n",
        "            temp.append(total_postictal[i][k][j:j+100])\n",
        "        train.append(temp)\n",
        "        labels.append(2)\n",
        "np.shape(train), np.shape(labels)"
      ],
      "execution_count": 156,
      "outputs": [
        {
          "output_type": "execute_result",
          "data": {
            "text/plain": [
              "((135075, 23, 100), (135075,))"
            ]
          },
          "metadata": {
            "tags": []
          },
          "execution_count": 156
        }
      ]
    },
    {
      "cell_type": "code",
      "metadata": {
        "id": "tU0Cn0qv9IQX",
        "colab_type": "code",
        "colab": {}
      },
      "source": [
        "X_train, X_test, y_train, y_test = train_test_split(train, labels, test_size=0.33, random_state=42)"
      ],
      "execution_count": 0,
      "outputs": []
    },
    {
      "cell_type": "code",
      "metadata": {
        "id": "ycgRueo79eua",
        "colab_type": "code",
        "outputId": "0baeb4ad-b665-4a34-ffd4-4b8ba08b3183",
        "colab": {
          "base_uri": "https://localhost:8080/",
          "height": 34
        }
      },
      "source": [
        "# One change that we can do is instead of dividing the dataset after concatenating preictal, seizure and postictal, \n",
        "# we can do the split separately and then concatenate\n",
        "np.shape((X_train)), torch.tensor(y_train)[20000], np.shape(X_test), np.shape(y_test), torch.tensor([1,2,3,5,4]).shape"
      ],
      "execution_count": 176,
      "outputs": [
        {
          "output_type": "execute_result",
          "data": {
            "text/plain": [
              "((90500, 23, 100), tensor(1), (44575, 23, 100), (44575,), torch.Size([5]))"
            ]
          },
          "metadata": {
            "tags": []
          },
          "execution_count": 176
        }
      ]
    },
    {
      "cell_type": "code",
      "metadata": {
        "id": "h6RV_-ED5fvO",
        "colab_type": "code",
        "colab": {}
      },
      "source": [
        "class epilepsy_dataset(Dataset):\n",
        "  def __init__(self, train, classes, transform=None):\n",
        "    self.data = train\n",
        "    self.labels = classes\n",
        "    self.transform = transform\n",
        "\n",
        "  def __len__(self):\n",
        "    return len(self.labels)\n",
        "\n",
        "  def __getitem__(self, idx):\n",
        "    if torch.is_tensor(idx):\n",
        "      print(\"test torch.istensor in epilepsy_dataset\")\n",
        "      idx = idx.tolist()\n",
        "    \n",
        "    sample = {'signal': self.data[idx], 'label': self.labels[idx]}\n",
        "    if self.transform:\n",
        "      sample = self.transform(sample)\n",
        "    return sample"
      ],
      "execution_count": 0,
      "outputs": []
    },
    {
      "cell_type": "code",
      "metadata": {
        "id": "J6EaSIqxo2AF",
        "colab_type": "code",
        "colab": {}
      },
      "source": [
        "class ToTensor(object):\n",
        "  def __call__(self, sample):\n",
        "        signal, label = sample['signal'], sample['label']\n",
        "\n",
        "        return {'signal': torch.tensor(signal),\n",
        "                'label': torch.tensor(label)}"
      ],
      "execution_count": 0,
      "outputs": []
    },
    {
      "cell_type": "code",
      "metadata": {
        "id": "hGJF7dFoVwCO",
        "colab_type": "code",
        "colab": {}
      },
      "source": [
        "def my_collate(batch):\n",
        "  \n",
        "  elem = signal[0]\n",
        "  data = []\n",
        "  for key in elem:\n",
        "    print(type(key), \" \", key)\n",
        "    for d in signal:\n",
        "      data = d[key]\n",
        "      print(\" signal \" , np.shape(data), d['label'])\n",
        "      elem_type = type(data)\n",
        "  return batch"
      ],
      "execution_count": 0,
      "outputs": []
    },
    {
      "cell_type": "code",
      "metadata": {
        "id": "3HuV4Vt_5ulm",
        "colab_type": "code",
        "colab": {}
      },
      "source": [
        "train_dataset = epilepsy_dataset(X_train, y_train, \n",
        "                            transform=transforms.Compose([\n",
        "                                               ToTensor()\n",
        "                                           ]))\n",
        "train_loader = DataLoader(train_dataset, batch_size=32, shuffle=True, num_workers=4)\n",
        "\n",
        "test_dataset = epilepsy_dataset(X_test, y_test, \n",
        "                            transform=transforms.Compose([\n",
        "                                               ToTensor()\n",
        "                                           ]))\n",
        "test_loader = DataLoader(test_dataset, batch_size=32, shuffle=True, num_workers=4)"
      ],
      "execution_count": 0,
      "outputs": []
    },
    {
      "cell_type": "code",
      "metadata": {
        "id": "aUu0CK8CB4gF",
        "colab_type": "code",
        "colab": {}
      },
      "source": [
        "class Net(nn.Module):\n",
        "  def __init__(self):\n",
        "    super(Net, self).__init__()\n",
        "    self.conv1 = nn.Conv1d(23, 46, 3)\n",
        "    self.conv2 = nn.Conv1d(46, 92, 3)\n",
        "    self.pool1 = nn.AvgPool1d(2)\n",
        "    self.fc1 = nn.Linear(2116, 128)\n",
        "    self.fc2 = nn.Linear(128, 64)\n",
        "    self.fc3 = nn.Linear(64, 3)\n",
        "\n",
        "  def forward(self, x):\n",
        "    x = self.pool1(F.leaky_relu(self.conv1(x)))\n",
        "    x = self.pool1(F.leaky_relu(self.conv2(x)))\n",
        "    x = x.view(-1, 2116)\n",
        "    x = F.leaky_relu(self.fc1(x))\n",
        "    x = F.leaky_relu(self.fc2(x))\n",
        "    x = self.fc3(x)\n",
        "    return x\n",
        "\n",
        "net = Net()\n",
        "net = net.float()"
      ],
      "execution_count": 0,
      "outputs": []
    },
    {
      "cell_type": "code",
      "metadata": {
        "id": "EYk6HUW6awDn",
        "colab_type": "code",
        "colab": {}
      },
      "source": [
        "criterion = nn.CrossEntropyLoss()\n",
        "optimizer = optim.Adam(net.parameters(), lr = 0.001)"
      ],
      "execution_count": 0,
      "outputs": []
    },
    {
      "cell_type": "code",
      "metadata": {
        "id": "kFFUa_bQDQQX",
        "colab_type": "code",
        "colab": {
          "base_uri": "https://localhost:8080/",
          "height": 974
        },
        "outputId": "8e40c1ed-ab17-4dfb-e884-c9dfa3b5b5e1"
      },
      "source": [
        "net = net.train()\n",
        "epochs = 2\n",
        "losses = []\n",
        "for epoch in range(epochs):\n",
        "  running_loss = 0.0\n",
        "  for batch_no, sample in enumerate(train_loader, 0):\n",
        "    signal, labels = sample['signal'], sample['label']\n",
        "\n",
        "    optimizer.zero_grad()\n",
        "    outputs = net(signal.float())\n",
        "    loss = criterion(outputs, labels)\n",
        "    loss.backward()\n",
        "    optimizer.step()\n",
        "\n",
        "    losses.append(loss.item())\n",
        "    running_loss += loss.item()\n",
        "    if batch_no % 100 == 99:\n",
        "      print('[%d, %5d] loss: %.3f' %\n",
        "                  (epoch + 1, batch_no + 1, running_loss / 100))\n",
        "      running_loss = 0.0\n",
        "\n",
        "print('Finished Training')"
      ],
      "execution_count": 214,
      "outputs": [
        {
          "output_type": "stream",
          "text": [
            "[1,   100] loss: 1.405\n",
            "[1,   200] loss: 1.445\n",
            "[1,   300] loss: 1.455\n",
            "[1,   400] loss: 1.440\n",
            "[1,   500] loss: 1.449\n",
            "[1,   600] loss: 1.422\n",
            "[1,   700] loss: 1.430\n",
            "[1,   800] loss: 1.419\n",
            "[1,   900] loss: 1.430\n",
            "[1,  1000] loss: 1.429\n",
            "[1,  1100] loss: 1.428\n",
            "[1,  1200] loss: 1.402\n",
            "[1,  1300] loss: 1.408\n",
            "[1,  1400] loss: 1.429\n",
            "[1,  1500] loss: 1.420\n",
            "[1,  1600] loss: 1.376\n",
            "[1,  1700] loss: 1.402\n",
            "[1,  1800] loss: 1.390\n",
            "[1,  1900] loss: 1.406\n",
            "[1,  2000] loss: 1.416\n",
            "[1,  2100] loss: 1.437\n",
            "[1,  2200] loss: 1.415\n",
            "[1,  2300] loss: 1.436\n",
            "[1,  2400] loss: 1.405\n",
            "[1,  2500] loss: 1.414\n",
            "[1,  2600] loss: 1.420\n",
            "[1,  2700] loss: 1.418\n",
            "[1,  2800] loss: 1.427\n",
            "[2,   100] loss: 1.425\n",
            "[2,   200] loss: 1.453\n",
            "[2,   300] loss: 1.431\n",
            "[2,   400] loss: 1.425\n",
            "[2,   500] loss: 1.411\n",
            "[2,   600] loss: 1.410\n",
            "[2,   700] loss: 1.409\n",
            "[2,   800] loss: 1.440\n",
            "[2,   900] loss: 1.410\n",
            "[2,  1000] loss: 1.426\n",
            "[2,  1100] loss: 1.425\n",
            "[2,  1200] loss: 1.409\n",
            "[2,  1300] loss: 1.426\n",
            "[2,  1400] loss: 1.422\n",
            "[2,  1500] loss: 1.429\n",
            "[2,  1600] loss: 1.445\n",
            "[2,  1700] loss: 1.412\n",
            "[2,  1800] loss: 1.410\n",
            "[2,  1900] loss: 1.402\n",
            "[2,  2000] loss: 1.424\n",
            "[2,  2100] loss: 1.402\n",
            "[2,  2200] loss: 1.445\n",
            "[2,  2300] loss: 1.414\n",
            "[2,  2400] loss: 1.375\n",
            "[2,  2500] loss: 1.427\n",
            "[2,  2600] loss: 1.445\n",
            "[2,  2700] loss: 1.418\n",
            "[2,  2800] loss: 1.409\n",
            "Finished Training\n"
          ],
          "name": "stdout"
        }
      ]
    },
    {
      "cell_type": "code",
      "metadata": {
        "id": "4rg0OukJDT_M",
        "colab_type": "code",
        "colab": {}
      },
      "source": [
        "torch.save(net.state_dict(), \"first.pth\")"
      ],
      "execution_count": 0,
      "outputs": []
    },
    {
      "cell_type": "code",
      "metadata": {
        "id": "PvhRMSzkHqUx",
        "colab_type": "code",
        "colab": {
          "base_uri": "https://localhost:8080/",
          "height": 34
        },
        "outputId": "25309fb6-9386-472a-b25e-fd3f6b0fe3d9"
      },
      "source": [
        "correct = 0\n",
        "total = 0\n",
        "net = net.eval()\n",
        "with torch.no_grad():\n",
        "    for data in test_loader:\n",
        "        signal, labels = data['signal'], data['label']\n",
        "        outputs = net(signal.float())\n",
        "        _, predicted = torch.max(outputs.data, 1)\n",
        "        total += labels.size(0)\n",
        "        correct += (predicted == labels).sum().item()\n",
        "\n",
        "print('Accuracy of the network on the 10000 test images: %d %%' % (\n",
        "    100 * correct / total))"
      ],
      "execution_count": 217,
      "outputs": [
        {
          "output_type": "stream",
          "text": [
            "Accuracy of the network on the 10000 test images: 33 %\n"
          ],
          "name": "stdout"
        }
      ]
    },
    {
      "cell_type": "code",
      "metadata": {
        "id": "UFW3lkweLfTm",
        "colab_type": "code",
        "colab": {
          "base_uri": "https://localhost:8080/",
          "height": 282
        },
        "outputId": "c6bbea97-6c56-4a36-fbb2-15c1920ece09"
      },
      "source": [
        "plt.plot(losses)"
      ],
      "execution_count": 218,
      "outputs": [
        {
          "output_type": "execute_result",
          "data": {
            "text/plain": [
              "[<matplotlib.lines.Line2D at 0x7f4b93d54a58>]"
            ]
          },
          "metadata": {
            "tags": []
          },
          "execution_count": 218
        },
        {
          "output_type": "display_data",
          "data": {
            "image/png": "[encoded data removed]",
            "text/plain": [
              "<Figure size 432x288 with 1 Axes>"
            ]
          },
          "metadata": {
            "tags": [],
            "needs_background": "light"
          }
        }
      ]
    },
    {
      "cell_type": "code",
      "metadata": {
        "id": "LOCpW-XcTbZj",
        "colab_type": "code",
        "colab": {
          "base_uri": "https://localhost:8080/",
          "height": 34
        },
        "outputId": "0f00381c-0228-4bfc-ceae-f1cdcdc9383c"
      },
      "source": [
        "cd /content/Epilepsy-Detection\n"
      ],
      "execution_count": 223,
      "outputs": [
        {
          "output_type": "stream",
          "text": [
            "/content/Epilepsy-Detection\n"
          ],
          "name": "stdout"
        }
      ]
    },
    {
      "cell_type": "code",
      "metadata": {
        "id": "9BimDrI0HFXL",
        "colab_type": "code",
        "colab": {}
      },
      "source": [
        "!git add ."
      ],
      "execution_count": 0,
      "outputs": []
    },
    {
      "cell_type": "code",
      "metadata": {
        "id": "ho0NOR63Hq3n",
        "colab_type": "code",
        "colab": {
          "base_uri": "https://localhost:8080/",
          "height": 34
        },
        "outputId": "9e927f7e-5524-4aae-f6d0-6ced70c96df5"
      },
      "source": [
        "!git commit -m “first commit”"
      ],
      "execution_count": 228,
      "outputs": [
        {
          "output_type": "stream",
          "text": [
            "error: pathspec 'commit”' did not match any file(s) known to git.\n"
          ],
          "name": "stdout"
        }
      ]
    },
    {
      "cell_type": "code",
      "metadata": {
        "id": "xsyove4AHyPn",
        "colab_type": "code",
        "colab": {}
      },
      "source": [
        ""
      ],
      "execution_count": 0,
      "outputs": []
    }
  ]
}